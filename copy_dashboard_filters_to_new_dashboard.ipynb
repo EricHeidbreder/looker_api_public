{
 "cells": [
  {
   "cell_type": "markdown",
   "metadata": {},
   "source": [
    "# Copying dashboard filters to a new dashboard\n",
    "This script assumes the following:\n",
    "- You have a reference dashboard to copy filters from\n",
    "- You want the filters you add to be linked to every element on your dashboard\n",
    "- All your filters you're adding are standard string filters\n",
    "\n",
    "This script can be modified to do the following:\n",
    "- Avoid deleting every filter and readding it by changing the `do_not_remove_these_filters_list` variable in the `check_filter_in_do_not_remove_list` function\n",
    "\n",
    "## Todo:\n",
    "- If you want to add numeric filters or anything outside of standard string filters, they'll need to be tested prior to use"
   ]
  },
  {
   "cell_type": "code",
   "execution_count": 1,
   "metadata": {},
   "outputs": [],
   "source": [
    "import looker_sdk\n",
    "from looker_sdk.sdk.api40.models import WriteCreateDashboardFilter, ResultMakerFilterablesListen, DashboardFilter"
   ]
  },
  {
   "cell_type": "code",
   "execution_count": 2,
   "metadata": {},
   "outputs": [],
   "source": [
    "sdk = looker_sdk.init40()"
   ]
  },
  {
   "cell_type": "code",
   "execution_count": 3,
   "metadata": {},
   "outputs": [],
   "source": [
    "# This is the only cell you need to update\n",
    "\n",
    "# UPDATE THE NUMBERS IN THESE VARIABLES\n",
    "reference_dashboard_id = '99999999999' # The dashboard you're using as a base to copy filters from\n",
    "dashboard_to_update_id_list = ['111111111', '222222222222'] # The dashboards you'd like to copy filters to\n",
    "\n",
    "def check_filter_in_do_not_remove_list(filter_obj):\n",
    "    '''\n",
    "    Checks to see if a filter is in the list of filters that are actually parameters.\n",
    "    '''\n",
    "    \n",
    "    # UPDATE THE FILTER NAMES IN THIS LIST, USE THE NAMES YOU SEE IN THE DASHBOARD, NOT THE FIELD NAMES\n",
    "    do_not_remove_these_filters_list = ['UPDATE ME', 'UPDATE ME']\n",
    "    return filter_obj.title in do_not_remove_these_filters_list"
   ]
  },
  {
   "cell_type": "code",
   "execution_count": 4,
   "metadata": {},
   "outputs": [],
   "source": [
    "\n",
    "\n",
    "\n",
    "def check_and_remove_dashboard_filters(dashboard_to_update_filter):\n",
    "    # check if the filter is in the param list, which means we shouldn't remove it\n",
    "    if check_filter_in_do_not_remove_list(dashboard_to_update_filter):\n",
    "        return ''\n",
    "    # The filter is not in the do not remove list, so we need to remove it from the new dashboard\n",
    "    sdk.delete_dashboard_filter(dashboard_to_update_filter.id)\n",
    "\n",
    "\n",
    "def create_new_filter_obj(dashboard_to_update_id: str, reference_dashboard_filter_obj: DashboardFilter):\n",
    "    '''\n",
    "    dashboard_to_update_id: str -                       The ID of the dashbaord to update as a string\n",
    "    reference_dashboard_filter_obj: DashboardFilter -   The entire filter object for the reference dashboard\n",
    "    '''\n",
    "    return WriteCreateDashboardFilter(\n",
    "        dashboard_id=dashboard_to_update_id, # Note that this is the dashboard_to_update_id, not the reference\n",
    "        name=reference_dashboard_filter_obj.name,\n",
    "        title=reference_dashboard_filter_obj.title,\n",
    "        type=reference_dashboard_filter_obj.type,\n",
    "        default_value=reference_dashboard_filter_obj.default_value,\n",
    "        model=reference_dashboard_filter_obj.model,\n",
    "        explore=reference_dashboard_filter_obj.explore,\n",
    "        dimension=reference_dashboard_filter_obj.dimension,\n",
    "        row=reference_dashboard_filter_obj.row,\n",
    "        listens_to_filters=reference_dashboard_filter_obj.listens_to_filters,\n",
    "        allow_multiple_values=reference_dashboard_filter_obj.allow_multiple_values,\n",
    "        required=reference_dashboard_filter_obj.required,\n",
    "        ui_config=reference_dashboard_filter_obj.ui_config,\n",
    "    )\n",
    "\n",
    "\n",
    "def create_new_result_maker_filterables_obj(dashboard_filter_name, field):\n",
    "    return ResultMakerFilterablesListen(\n",
    "        dashboard_filter_name=dashboard_filter_name,\n",
    "        field=field\n",
    "    )"
   ]
  },
  {
   "cell_type": "code",
   "execution_count": 5,
   "metadata": {},
   "outputs": [],
   "source": [
    "reference_dashboard_filters = sdk.dashboard_dashboard_filters(str(reference_dashboard_id))"
   ]
  },
  {
   "cell_type": "code",
   "execution_count": 6,
   "metadata": {},
   "outputs": [],
   "source": [
    "# This for loop is going to add only net-new filters. \n",
    "# If the filter already exists or is in the list of , it will leave it alone\n",
    "for dashboard_to_update_id in dashboard_to_update_id_list:\n",
    "    dashboard_to_update_id = str(dashboard_to_update_id)\n",
    "    # Get the filters for the new dashboard\n",
    "    dashboard_to_update_filters = sdk.dashboard_dashboard_filters(dashboard_to_update_id)\n",
    "    # Get the elements for the new dashboard, we'll need these later\n",
    "    dashboard_to_update_elements = sdk.dashboard_dashboard_elements(dashboard_to_update_id)\n",
    "\n",
    "    # Remove filters\n",
    "    for dashboard_to_update_filter in dashboard_to_update_filters:\n",
    "        check_and_remove_dashboard_filters(dashboard_to_update_filter)\n",
    "\n",
    "    # This is where we actually add the filters from the reference dashboard to the new dashboard\n",
    "    for reference_dashboard_filter in reference_dashboard_filters:\n",
    "        # check if the filter is in the do_not_remove_list, because then we don't need to do anything\n",
    "        if check_filter_in_do_not_remove_list(reference_dashboard_filter):\n",
    "            continue\n",
    "        # Create the new filter object, note that all that's changing here is the dashboard_id attribute\n",
    "        write_create_filter_obj = create_new_filter_obj(dashboard_to_update_id=dashboard_to_update_id, reference_dashboard_filter_obj=reference_dashboard_filter)\n",
    "        # If the filter already exists, we can't create it, so it will throw an error\n",
    "        try:\n",
    "            new_filter = sdk.create_dashboard_filter(write_create_filter_obj)\n",
    "        # The filter already exists\n",
    "        except:\n",
    "            continue\n",
    "    \n",
    "    # Now go through all the elements in the dashboard that was updated above and connect them to the new filters that were made\n",
    "    # Note this will only add the filter you added above\n",
    "        for element in dashboard_to_update_elements:\n",
    "            # Check if this is a vis tile, we don't want to update text tiles because they don't need to be connected to filters\n",
    "            if element.type != 'vis':\n",
    "                continue\n",
    "\n",
    "            # Copy the element to a new variable\n",
    "            updated_element = element\n",
    "\n",
    "            # Make the new ResultMakerFilterable object using the new_filter created above\n",
    "            new_result_maker_filterable = create_new_result_maker_filterables_obj(\n",
    "                dashboard_filter_name=new_filter.name,\n",
    "                field=new_filter.dimension\n",
    "            )\n",
    "\n",
    "            # Append the new filter to the list of filters to listen to for this updated_element\n",
    "            updated_element.result_maker.filterables[0].listen.append(new_result_maker_filterable)\n",
    "\n",
    "            # update the element, we could technically use the updated_element id here, but sticking to the original for fun\n",
    "            sdk.update_dashboard_element(element.id, body={'result_maker': updated_element.result_maker})\n",
    "    print(f'Finished with Dashboard {dashboard_to_update_id}')\n",
    "\n"
   ]
  }
 ],
 "metadata": {
  "interpreter": {
   "hash": "63fd5069d213b44bf678585dea6b12cceca9941eaf7f819626cde1f2670de90d"
  },
  "kernelspec": {
   "display_name": "Python 3.9.2 64-bit",
   "language": "python",
   "name": "python3"
  },
  "language_info": {
   "codemirror_mode": {
    "name": "ipython",
    "version": 3
   },
   "file_extension": ".py",
   "mimetype": "text/x-python",
   "name": "python",
   "nbconvert_exporter": "python",
   "pygments_lexer": "ipython3",
   "version": "3.9.2"
  },
  "orig_nbformat": 4
 },
 "nbformat": 4,
 "nbformat_minor": 2
}
