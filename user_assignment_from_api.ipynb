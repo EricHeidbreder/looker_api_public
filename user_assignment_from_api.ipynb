{
 "cells": [
  {
   "cell_type": "code",
   "execution_count": 2,
   "source": [
    "import pandas\r\n",
    "import looker_sdk # if unavailable, pip install looker_sdk"
   ],
   "outputs": [],
   "metadata": {}
  },
  {
   "cell_type": "markdown",
   "source": [
    "# Important note about Authorization\r\n",
    "\r\n",
    "The following line is authorizing you to use the API on our instance, but it requires you to have a looker.ini file with the following:\r\n",
    "\r\n",
    "```\r\n",
    "[Looker]\r\n",
    "base_url = \"https://[COMPANY_NAME].looker.com:19999\"\r\n",
    "client_id = \"YOUR_CLIENT_ID\"\r\n",
    "client_secret = \"YOUR_CLIENT_SECRET\"\r\n",
    "```\r\n",
    "\r\n",
    "If you don't have a `client_id` and `client_secret`, you will need\r\n",
    "to get your API3 keys from your Looker Admin. If you are a Looker Admin,\r\n",
    "head to Admin > Users and edit a user. You'll be able to edit / create API3\r\n",
    "keys from this menu. \r\n",
    "\r\n",
    "**Keep your API3 Secret SAFE and do not put any code on GitHub that has your client secret exposed.**"
   ],
   "metadata": {}
  },
  {
   "cell_type": "code",
   "execution_count": null,
   "source": [
    "# Read the text above for more info on how to initiate your API session\r\n",
    "admin_sdk = looker_sdk.init31()"
   ],
   "outputs": [],
   "metadata": {}
  },
  {
   "cell_type": "markdown",
   "source": [
    "# Using a csv to see users' current teams and roles"
   ],
   "metadata": {}
  },
  {
   "cell_type": "code",
   "execution_count": null,
   "source": [
    "# Removes all users in a list of user_ids from a single group\r\n",
    "\r\n",
    "def remove_users_from_group(admin_sdk, user_id_list, group_id):\r\n",
    "    # Iterate through user_id_list\r\n",
    "    for user_id in user_id_list:\r\n",
    "      # Delete the user from the group\r\n",
    "      admin_sdk.delete_group_user(group_id, user_id)"
   ],
   "outputs": [],
   "metadata": {}
  },
  {
   "cell_type": "code",
   "execution_count": null,
   "source": [
    "# Adds all users in a list of user_ids to a single group\r\n",
    "\r\n",
    "def add_users_to_group(admin_sdk, user_id_list, group_id):\r\n",
    "    # Iterate through user_id_list\r\n",
    "    for user_id in user_id_list:\r\n",
    "        # Generate the body to pass through the API call\r\n",
    "        body = {\r\n",
    "            'user_id': user_id\r\n",
    "        }\r\n",
    "        # Add the user to the group\r\n",
    "        admin_sdk.add_group_user(group_id, body)"
   ],
   "outputs": [],
   "metadata": {}
  },
  {
   "cell_type": "markdown",
   "source": [
    "# Create new groups from a base name\n",
    "This function pairs well with the new role function below"
   ],
   "metadata": {}
  },
  {
   "cell_type": "code",
   "execution_count": 24,
   "source": [
    "def create_new_groups(admin_sdk, group_base_name, nest_groups:bool):\r\n",
    "    '''\r\n",
    "    Creates new Viewer, Explorer, and Developer groups with a base name prefix.\r\n",
    "    \r\n",
    "        nest_groups -   Nests Developer inside Explorer, and Explorer inside Viewer.\r\n",
    "                        This ensures that Developers will inherit Explorer and Viewer permissions\r\n",
    "                        and Explorers will inherit viewer permissions.\r\n",
    "        \r\n",
    "        returns a list of the new names to be passed into create_new_role function\r\n",
    "    '''\r\n",
    "    new_group_names = []\r\n",
    "    group_suffixes = ['Viewer', 'Explorer', 'Developer']\r\n",
    "    for group_suffix in group_suffixes:\r\n",
    "        full_group_name = f'{group_base_name} {group_suffix}'\r\n",
    "        new_group_names.append(full_group_name)\r\n",
    "        print(new_group_names)\r\n",
    "        body = {\r\n",
    "            'name': full_group_name\r\n",
    "        }\r\n",
    "        new_group = admin_sdk.create_group(body)\r\n",
    "\r\n",
    "        if nest_groups:\r\n",
    "\r\n",
    "            # Store the value of the viewer group for nesting later\r\n",
    "            if group_suffix == \"Viewer\":\r\n",
    "                viewer_group_id = new_group.id\r\n",
    "\r\n",
    "            # All explorers should be viewers, so nest explorer group\r\n",
    "            # inside of viewer group\r\n",
    "            elif group_suffix == \"Explorer\":\r\n",
    "                explorer_group_id = new_group.id\r\n",
    "                explorer_body = {\r\n",
    "                    \"group_id\": explorer_group_id\r\n",
    "                }\r\n",
    "                admin_sdk.add_group_group(viewer_group_id, explorer_body)\r\n",
    "            \r\n",
    "            # All Developers should be explorers and viewers, so nest\r\n",
    "            # Inside of explorer group, which will be nested inside viewer group\r\n",
    "            else:\r\n",
    "                developer_group_id = new_group.id\r\n",
    "                developer_body = {\r\n",
    "                    \"group_id\": developer_group_id\r\n",
    "                }\r\n",
    "                admin_sdk.add_group_group(explorer_group_id, developer_body)\r\n",
    "    return new_group_names\r\n",
    "        "
   ],
   "outputs": [],
   "metadata": {}
  },
  {
   "cell_type": "code",
   "execution_count": null,
   "source": [
    "def create_new_role(admin_sdk, new_role_name, new_role_groups: list):\r\n",
    "    '''\r\n",
    "    Make sure groups are defined first! This will auto \r\n",
    "    assign groups for you if they exist already\r\n",
    "\r\n",
    "    new_role_groups: list - should be a list of names of \r\n",
    "    groups to add to the new role\r\n",
    "    '''\r\n",
    "\r\n",
    "    # This requires an existing permission set and model set\r\n",
    "    # You can define a new permission set and model set by using the\r\n",
    "    # permission_set: {} and model_set: {} params\r\n",
    "    # See the API Explorer in your Looker instance for more info\r\n",
    "    body = {\r\n",
    "        \"name\": new_role_name\r\n",
    "        \"permission_set_id\": base_permission_set_id,\r\n",
    "        \"model_set_id\": base_model_set_id,\r\n",
    "    }\r\n",
    "\r\n",
    "    # Create the new role\r\n",
    "    new_role = admin_sdk.create_role(body)\r\n",
    "\r\n",
    "    # Get the id of the role we just created\r\n",
    "    new_role_id = new_role.id\r\n",
    "\r\n",
    "    # Get the group ids currently associated with the role\r\n",
    "    current_role_group_ids = [group.id for group in admin_sdk.role_groups(role_id)]\r\n",
    "\r\n",
    "    # Get the group ids for the new role groups\r\n",
    "    new_role_group_ids = [new_role_group.id for new_role_group in admin_sdk.all_groups() if new_role_group.name in new_role_groups]\r\n",
    "\r\n",
    "    # Add the new_role_group to the current_role_group_ids\r\n",
    "    updated_role_group_ids = current_role_group_ids + new_role_group_ids\r\n",
    "\r\n",
    "    admin_sdk.set_role_groups(role_id, updated_role_group_ids)"
   ],
   "outputs": [],
   "metadata": {}
  },
  {
   "cell_type": "markdown",
   "source": [
    "## CODE EXAMPLES: Getting user info from a csv and using it in the API"
   ],
   "metadata": {}
  },
  {
   "cell_type": "code",
   "execution_count": null,
   "source": [
    "# Store csv contents in pandas dataframe\r\n",
    "# We have a \"Team\" and \"Display_Name\" field in this csv\r\n",
    "\r\n",
    "csv_path = '..\\looker_users.csv' # Update this with your csv path\r\n",
    "df = pd.read_csv(csv_path)"
   ],
   "outputs": [],
   "metadata": {}
  },
  {
   "cell_type": "code",
   "execution_count": null,
   "source": [
    "# Storing team value for searching\r\n",
    "team = 'Marketing'\r\n",
    "\r\n",
    "# Store people from a specific team\r\n",
    "user_list = df[df['Team'] == team].sort_values('Display_Name')\r\n",
    "\r\n",
    "# Get a list of user ids to pass through functions\r\n",
    "user_id_list = list(user_list['id'])"
   ],
   "outputs": [],
   "metadata": {}
  },
  {
   "cell_type": "code",
   "execution_count": null,
   "source": [
    "# Obtaining group ids via a search with wildcards\r\n",
    "group_id = admin_sdk.search_groups(name='Marketing')[0].id"
   ],
   "outputs": [],
   "metadata": {}
  },
  {
   "cell_type": "code",
   "execution_count": null,
   "source": [
    "# Adding users to group with the id above. You can hard code in the ID\r\n",
    "# If you find it via the Admin > Groups page in Looker\r\n",
    "\r\n",
    "# Line left commented because we don't want to accidentally add users\r\n",
    "# add_users_to_group(admin_sdk, user_id_list, group_id)"
   ],
   "outputs": [],
   "metadata": {}
  },
  {
   "cell_type": "markdown",
   "source": [
    "## Creating full group names to pass through the create_new_role() function"
   ],
   "metadata": {}
  },
  {
   "cell_type": "code",
   "execution_count": null,
   "source": [
    "group_base_name = 'Marketing'\r\n",
    "nest_groups = True\r\n",
    "\r\n",
    "'''\r\n",
    "The line below will create new groups and connect them to new roles\r\n",
    "with basic model set and permission sets. Uncomment to make a live \r\n",
    "API call and add the new groups and roles\r\n",
    "'''\r\n",
    "# The role name and group name are the same, in our case\r\n",
    "# new_group_list = create_new_groups(admin_sdk, group_base_name, nest_groups)\r\n",
    "# for group_name in new_group_list:\r\n",
    "#   create_new_role(admin_sdk, group_name, group_name)"
   ],
   "outputs": [],
   "metadata": {}
  }
 ],
 "metadata": {
  "orig_nbformat": 4,
  "language_info": {
   "name": "python",
   "version": "3.9.2",
   "mimetype": "text/x-python",
   "codemirror_mode": {
    "name": "ipython",
    "version": 3
   },
   "pygments_lexer": "ipython3",
   "nbconvert_exporter": "python",
   "file_extension": ".py"
  },
  "kernelspec": {
   "name": "python3",
   "display_name": "Python 3.9.2 64-bit"
  },
  "interpreter": {
   "hash": "63fd5069d213b44bf678585dea6b12cceca9941eaf7f819626cde1f2670de90d"
  }
 },
 "nbformat": 4,
 "nbformat_minor": 2
}