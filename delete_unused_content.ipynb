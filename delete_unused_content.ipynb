{
 "cells": [
  {
   "cell_type": "code",
   "execution_count": 1,
   "source": [
    "import looker_sdk # You'll need to pip install this\r\n",
    "import json"
   ],
   "outputs": [],
   "metadata": {}
  },
  {
   "cell_type": "markdown",
   "source": [
    "# Soft-deleting unused content (moving them to the trash folder)\r\n",
    "\r\n",
    "## 1) Creating a Look that returns unused content\r\n",
    "\r\n",
    "On larger instances, many Looks and Dashboards will stop being viewed after a while. To do this, we're going to create a look that returns all of the unused content, as defined by us (or better yet, your business users). Here's how to do that:\r\n",
    "\r\n",
    "- If you have access to 'System Activity' (your admin will have to give you permission), click the Explore tab, then scroll to the bottom, and select the \"Content Usage\" explore\r\n",
    "- In this explore, there's an 'Inactive Content' quick start that will get you well on your way to returning unused content\r\n",
    "- I recommend adding the following filters, if they aren't there already:\r\n",
    "  - Content ID doesn't contain `block`\r\n",
    "  - Content Type is equal to `look, dashboard`\r\n",
    "  - Look Is Used on Dashboard is `No`\r\n",
    "  - Look Public is `No`\r\n",
    "  - Look Moved to Trash is `No`\r\n",
    "  - Dashboard Moved to Trash is `No`\r\n",
    "  - Content Usage Favorites Total is equal to `0`\r\n",
    "  - Content Usage Schedule Total is equal to `0`\r\n",
    "  - Content Usage API Total is equal to `0`\r\n",
    "- And some bonus filters that may be helpful depending on your use case\r\n",
    "  - Content ID doesn't contain `block` - some blocks don't have ID numbers, and probably shouldn't be deleted\r\n",
    "  - Content Title doesn't contain `annual, quarterly, Annual, Yearly, etc...` - Any terms that may indicate infrequently viewed, but important content\r\n",
    "\r\n",
    "## 2) Running the Look via the API\r\n",
    "\r\n",
    "Next thing to do is return all the data from the look we just created, you'll need to save the Look and then get its ID from the url (https://companyname.looker.com/looks/**[look_id]**). I'm returning the data as json, but you can return it in a variety of formats. Check the Looker API reference to see them all!\r\n",
    "\r\n",
    "```python \r\n",
    "unused_content_looks = json.loads(admin_sdk.run_look(unused_content_lookid, 'json'))\r\n",
    "```\r\n",
    "\r\n",
    "## 3) The scary part - soft deleting content\r\n",
    "\r\n",
    "One thing to know is that when you soft-delete content, it's not gone forever, it's just not going to be referenced by the content validator. You're moving it to a \"Trash\" folder and content can be restored to its original location -- as long as that original location still exists.\r\n",
    "\r\n",
    "To soft delete, we're going to **update the 'deleted' attribute to 'true'** for each piece of content from the **unused content Look** we created.\r\n",
    "\r\n",
    "Note that to update a look, the ID needs to be an integer. To update a dashboard, the ID needs to be a string. I recommend using if statements to ensure that you're sending the right data types to each function.\r\n",
    "\r\n",
    "Final note here is that sometimes Looks get deleted or just can't be found anymore on the instance. I'm not sure why this is, but it causes errors. I've included some error handling here that will keep the code from stopping, while logging the missing content.\r\n",
    "\r\n",
    "```python\r\n",
    "for content in unused_content_results:\r\n",
    "    content_id = content['content_usage.content_id']\r\n",
    "    content_type = content['content_usage.content_type']\r\n",
    "    if content_type == 'look':\r\n",
    "        try:\r\n",
    "            admin_sdk.update_look(int(content_id), soft_delete_body)\r\n",
    "        except looker_sdk.error.SDKError:\r\n",
    "            print(f'SDK Error on Look with ID {content_id}')\r\n",
    "            continue\r\n",
    "    if content_type == 'dashboard':\r\n",
    "        try:\r\n",
    "            admin_sdk.update_dashboard(content_id, soft_delete_body)\r\n",
    "        except looker_sdk.error.SDKError:\r\n",
    "            print(f'SDK Error on Dashboard with ID {content_id}')\r\n",
    "```"
   ],
   "metadata": {}
  },
  {
   "cell_type": "code",
   "execution_count": 2,
   "source": [
    "'''\r\n",
    "The following line is authorizing you to use the API on our instance, but\r\n",
    "it requires you to have a looker.ini file with the following:\r\n",
    "\r\n",
    "[Looker]\r\n",
    "base_url = \"https://[COMPANY_NAME].looker.com:19999\"\r\n",
    "client_id = \"YOUR_CLIENT_ID\"\r\n",
    "client_secret = \"YOUR_CLIENT_SECRET\"\r\n",
    "'''\r\n",
    "\r\n",
    "admin_sdk = looker_sdk.init31()\r\n",
    "\r\n",
    "'''\r\n",
    "The following line will switch your user into development mode, if you'd like to make\r\n",
    "changes directly to production, comment this line out.\r\n",
    "\r\n",
    "Also, this will automatically put you in the branch you were last using on each project.\r\n",
    "If you'd like to check your brach, use sdk.git_branch(project_id) where project_id is the\r\n",
    "name of the project. Example: case_studies\r\n",
    "'''\r\n",
    "\r\n",
    "admin_sdk.update_session({\r\n",
    "  \"can\": {},\r\n",
    "  \"workspace_id\": \"dev\",\r\n",
    "  \"sudo_user_id\": 0\r\n",
    "})"
   ],
   "outputs": [
    {
     "output_type": "execute_result",
     "data": {
      "text/plain": [
       "ApiSession(can={'view': True, 'update': True}, workspace_id='dev', sudo_user_id=None)"
      ]
     },
     "metadata": {},
     "execution_count": 2
    }
   ],
   "metadata": {}
  },
  {
   "cell_type": "code",
   "execution_count": 52,
   "source": [
    "# Change this to whatever your unused content Look ID is\r\n",
    "########################### CHANGE ME ###########################\r\n",
    "unused_content_lookid = 99999 "
   ],
   "outputs": [],
   "metadata": {}
  },
  {
   "cell_type": "code",
   "execution_count": 44,
   "source": [
    "unused_content_results = json.loads(admin_sdk.run_look(unused_content_lookid, 'json'))\r\n",
    "\r\n",
    "soft_delete_body = {\r\n",
    "    'deleted': 'true'\r\n",
    "}"
   ],
   "outputs": [],
   "metadata": {}
  },
  {
   "cell_type": "code",
   "execution_count": null,
   "source": [
    "for content in unused_content_results:\r\n",
    "    content_id = content['content_usage.content_id']\r\n",
    "    content_type = content['content_usage.content_type']\r\n",
    "    if content_type == 'look':\r\n",
    "        try:\r\n",
    "            admin_sdk.update_look(int(content_id), soft_delete_body)\r\n",
    "        except looker_sdk.error.SDKError:\r\n",
    "            print(f'SDK Error on Look with ID {content_id}')\r\n",
    "            continue\r\n",
    "    if content_type == 'dashboard':\r\n",
    "        try:\r\n",
    "            admin_sdk.update_dashboard(content_id, soft_delete_body)\r\n",
    "        except looker_sdk.error.SDKError:\r\n",
    "            print(f'SDK Error on Dashboard with ID {content_id}')"
   ],
   "outputs": [],
   "metadata": {}
  }
 ],
 "metadata": {
  "interpreter": {
   "hash": "63fd5069d213b44bf678585dea6b12cceca9941eaf7f819626cde1f2670de90d"
  },
  "kernelspec": {
   "display_name": "Python 3.9.2 64-bit",
   "name": "python3"
  },
  "language_info": {
   "codemirror_mode": {
    "name": "ipython",
    "version": 3
   },
   "file_extension": ".py",
   "mimetype": "text/x-python",
   "name": "python",
   "nbconvert_exporter": "python",
   "pygments_lexer": "ipython3",
   "version": "3.9.2"
  },
  "orig_nbformat": 4
 },
 "nbformat": 4,
 "nbformat_minor": 2
}